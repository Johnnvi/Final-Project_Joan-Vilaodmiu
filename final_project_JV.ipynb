{
 "cells": [
  {
   "cell_type": "markdown",
   "id": "46d0e8da-be71-45a6-8410-5acf75417782",
   "metadata": {},
   "source": [
    "#### Master final project - Build a predictive model\n",
    "Joan Viladomiu <br>\n"
   ]
  },
  {
   "cell_type": "code",
   "execution_count": 1,
   "id": "bfeaa804-7e38-4be1-aa03-bb9f745c2900",
   "metadata": {},
   "outputs": [],
   "source": [
    "import pandas as pd\n",
    "import numpy as np"
   ]
  },
  {
   "cell_type": "code",
   "execution_count": null,
   "id": "9703ca4d-6a44-46d8-8f51-335f5f9f7465",
   "metadata": {},
   "outputs": [],
   "source": []
  }
 ],
 "metadata": {
  "kernelspec": {
   "display_name": "Python 3 (ipykernel)",
   "language": "python",
   "name": "python3"
  },
  "language_info": {
   "codemirror_mode": {
    "name": "ipython",
    "version": 3
   },
   "file_extension": ".py",
   "mimetype": "text/x-python",
   "name": "python",
   "nbconvert_exporter": "python",
   "pygments_lexer": "ipython3",
   "version": "3.9.7"
  }
 },
 "nbformat": 4,
 "nbformat_minor": 5
}
